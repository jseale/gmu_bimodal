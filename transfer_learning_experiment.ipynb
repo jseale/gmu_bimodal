{
 "cells": [
  {
   "cell_type": "code",
   "execution_count": 1,
   "metadata": {},
   "outputs": [
    {
     "name": "stdout",
     "output_type": "stream",
     "text": [
      "['Documentary', 'Comedy', 'Drama', 'Fantasy', 'Mystery', 'Sci-Fi']\n",
      "What the #$*! Do We (K)now!?\n",
      "['\"WHAT THE #$*! DO WE KNOW?!\" is a radical departure from convention. It demands a freedom of view and greatness of thought so far unknown, indeed, not even dreamed of since Copernicus. It\\'s a documentary. It\\'s a story. It\\'s mind-blowing special effects. This film plunges you into a world where quantum uncertainty is demonstrated - where neurological processes, and perceptual shifts are engaged and lived by its protagonist - where everything is alive, and reality is changed by every thought.', \"Amanda, a divorced photographer, finds herself in a fantastic Alice-in-Wonderland experience when her daily, uninspired life literally begins to unravel, revealing the cellular, molecular and even quantum worlds which lie beneath. Guided by a Greek Chorus of leading scientists and mystics, she finds that if reality itself is not questionable, her notion of it certainly is. Stunning special effects plunge you into a world where quantum uncertainty is demonstrated - where Amanda's neurological processes, and perceptual shifts are engaged and lived - where everything is alive, and reality is changed by every thought. This film gives voice to the modern day radical souls of science, making them the true heroes of our day as they conquer and map the greatest uncharted territory yet - man's consciousness itself.\", 'It is part documentary, part story, and part elaborate and inspiring visual effects and animations. The protagonist, Amanda, played by Marlee Matlin, finds herself in a fantastic Alice in Wonderland experience when her daily, uninspired life literally begins to unravel, revealing the uncertain world of the quantum field hidden behind what we consider to be our normal, waking reality.']\n"
     ]
    }
   ],
   "source": [
    "#Makes data paths\n",
    "import os\n",
    "import json\n",
    "path = os.path.abspath('{}/../'.format('transfer_learning_text_classification.ipynb') )\n",
    "data_path = '{}/data/mmimdb/dataset/'.format(path)\n",
    "make_data_path = '{}/data/mmimdb/'.format(path)\n",
    "import sys\n",
    "sys.path.insert(0, make_data_path)\n",
    "import make_data\n",
    "import pandas as pd\n",
    "import glob\n",
    "from collections import Counter\n",
    "import numpy as np\n",
    "import matplotlib.pyplot as plt\n",
    "\n",
    "#Prints example of movie data\n",
    "with open('{}0399877.json'.format(data_path)) as json_data:\n",
    "    data = json.load(json_data)\n",
    "    print(data['genres'])\n",
    "    print(data['title'])\n",
    "    print(data['plot'])"
   ]
  },
  {
   "cell_type": "code",
   "execution_count": 2,
   "metadata": {},
   "outputs": [
    {
     "data": {
      "text/html": [
       "<div>\n",
       "<style scoped>\n",
       "    .dataframe tbody tr th:only-of-type {\n",
       "        vertical-align: middle;\n",
       "    }\n",
       "\n",
       "    .dataframe tbody tr th {\n",
       "        vertical-align: top;\n",
       "    }\n",
       "\n",
       "    .dataframe thead th {\n",
       "        text-align: right;\n",
       "    }\n",
       "</style>\n",
       "<table border=\"1\" class=\"dataframe\">\n",
       "  <thead>\n",
       "    <tr style=\"text-align: right;\">\n",
       "      <th></th>\n",
       "      <th>text</th>\n",
       "      <th>tags</th>\n",
       "      <th>tag count</th>\n",
       "      <th>plot_word_count</th>\n",
       "    </tr>\n",
       "  </thead>\n",
       "  <tbody>\n",
       "    <tr>\n",
       "      <th>0</th>\n",
       "      <td>He Knows You're Alone A reluctant bride to be ...</td>\n",
       "      <td>Horror Thriller</td>\n",
       "      <td>2</td>\n",
       "      <td>101</td>\n",
       "    </tr>\n",
       "    <tr>\n",
       "      <th>1</th>\n",
       "      <td>Link Student Jane jobs as an assistant for the...</td>\n",
       "      <td>Horror</td>\n",
       "      <td>1</td>\n",
       "      <td>95</td>\n",
       "    </tr>\n",
       "    <tr>\n",
       "      <th>2</th>\n",
       "      <td>The Blacksmith Buster clowns around in a black...</td>\n",
       "      <td>Comedy</td>\n",
       "      <td>1</td>\n",
       "      <td>53</td>\n",
       "    </tr>\n",
       "    <tr>\n",
       "      <th>3</th>\n",
       "      <td>Take the Lead In New York, the polite dance in...</td>\n",
       "      <td>Drama Music</td>\n",
       "      <td>2</td>\n",
       "      <td>316</td>\n",
       "    </tr>\n",
       "    <tr>\n",
       "      <th>4</th>\n",
       "      <td>Ping-pongkingen Rille is coming of age in a Sw...</td>\n",
       "      <td>Drama</td>\n",
       "      <td>1</td>\n",
       "      <td>149</td>\n",
       "    </tr>\n",
       "  </tbody>\n",
       "</table>\n",
       "</div>"
      ],
      "text/plain": [
       "                                                text             tags  \\\n",
       "0  He Knows You're Alone A reluctant bride to be ...  Horror Thriller   \n",
       "1  Link Student Jane jobs as an assistant for the...           Horror   \n",
       "2  The Blacksmith Buster clowns around in a black...           Comedy   \n",
       "3  Take the Lead In New York, the polite dance in...      Drama Music   \n",
       "4  Ping-pongkingen Rille is coming of age in a Sw...            Drama   \n",
       "\n",
       "   tag count  plot_word_count  \n",
       "0          2              101  \n",
       "1          1               95  \n",
       "2          1               53  \n",
       "3          2              316  \n",
       "4          1              149  "
      ]
     },
     "execution_count": 2,
     "metadata": {},
     "output_type": "execute_result"
    }
   ],
   "source": [
    "texts_df = pd.read_csv(make_data_path+\"text_labels.csv\")\n",
    "texts_df.head()"
   ]
  },
  {
   "cell_type": "code",
   "execution_count": 3,
   "metadata": {},
   "outputs": [],
   "source": [
    "genres = []\n",
    "genre_count = {}\n",
    "\n",
    "sys.path.insert(0, data_path)\n",
    "for file in glob.glob('{}*.json'.format(data_path)):\n",
    "    data = json.load(open(file))\n",
    "    [genres.append(genre) for genre in data['genres']]\n",
    "\n",
    "counts = Counter(genres)"
   ]
  },
  {
   "cell_type": "code",
   "execution_count": 4,
   "metadata": {},
   "outputs": [],
   "source": [
    "counts_df = pd.DataFrame.from_dict(list(dict(counts).items()))\n",
    "counts_named_df = counts_df.rename(columns={0:'Genre',1: '# Movies'})\n",
    "counts_ordered_df = counts_named_df.sort_values(by='# Movies')"
   ]
  },
  {
   "cell_type": "code",
   "execution_count": 5,
   "metadata": {},
   "outputs": [],
   "source": [
    "#to remove lower 25th percentile, also take out 'Film-Noir', 'Short', 'Sport'\n",
    "genres_to_remove = ['Reality-TV', \n",
    "                    'Talk-Show', \n",
    "                    'Adult', \n",
    "                    'News']"
   ]
  },
  {
   "cell_type": "code",
   "execution_count": 6,
   "metadata": {},
   "outputs": [],
   "source": [
    "texts_lower_genres_rm_df = texts_df.dropna()"
   ]
  },
  {
   "cell_type": "code",
   "execution_count": 7,
   "metadata": {},
   "outputs": [
    {
     "name": "stderr",
     "output_type": "stream",
     "text": [
      "/home/ubuntu/anaconda3/envs/gmu_bimodal/lib/python3.6/site-packages/pandas/core/indexing.py:543: SettingWithCopyWarning: \n",
      "A value is trying to be set on a copy of a slice from a DataFrame.\n",
      "Try using .loc[row_indexer,col_indexer] = value instead\n",
      "\n",
      "See the caveats in the documentation: http://pandas.pydata.org/pandas-docs/stable/indexing.html#indexing-view-versus-copy\n",
      "  self.obj[item] = s\n"
     ]
    }
   ],
   "source": [
    "texts_lower_genres_rm_df.loc[:,'tags'] = \\\n",
    "    texts_lower_genres_rm_df.tags.apply(\n",
    "        lambda tags: ' '.join([tag for tag in tags.split() \\\n",
    "                               if tag not in genres_to_remove]))"
   ]
  },
  {
   "cell_type": "code",
   "execution_count": 8,
   "metadata": {},
   "outputs": [],
   "source": [
    "texts_no_dups_df = texts_lower_genres_rm_df.drop_duplicates(subset='text')"
   ]
  },
  {
   "cell_type": "code",
   "execution_count": 9,
   "metadata": {},
   "outputs": [],
   "source": [
    "texts_tag_counts = texts_no_dups_df\n",
    "texts_tag_counts.loc[:, 'tag_count'] = texts_tag_counts.tags.apply(\n",
    "                                        lambda x: len(x.split(' ')))"
   ]
  },
  {
   "cell_type": "code",
   "execution_count": 10,
   "metadata": {},
   "outputs": [],
   "source": [
    "texts_tag_word_counts = texts_tag_counts\n",
    "texts_tag_word_counts.loc[:, 'plot_word_count'] = texts_tag_counts.text.apply(\n",
    "                                        lambda x: len(x.split(' ')))"
   ]
  },
  {
   "cell_type": "code",
   "execution_count": 11,
   "metadata": {},
   "outputs": [],
   "source": [
    "texts_tag_word_counts.to_csv(\"{}text_mod_labels.csv\".format(make_data_path),index=False)"
   ]
  },
  {
   "cell_type": "code",
   "execution_count": 12,
   "metadata": {},
   "outputs": [],
   "source": [
    "#Language Model\n",
    "import torch\n",
    "import fastai\n",
    "from fastai.text import * "
   ]
  },
  {
   "cell_type": "code",
   "execution_count": 13,
   "metadata": {},
   "outputs": [],
   "source": [
    "#USE GPU - Device 0 \n",
    "torch.cuda.set_device(0)"
   ]
  },
  {
   "cell_type": "code",
   "execution_count": 14,
   "metadata": {},
   "outputs": [],
   "source": [
    "# Language model data\n",
    "data_lm = TextLMDataBunch.from_csv(make_data_path, 'text_mod_labels.csv', text_cols = 'text')\n",
    "data_lm.save()\n",
    "data_lm = TextLMDataBunch.load(make_data_path) #TextLMDataBunch expects to find data_lm saved to a temp directory"
   ]
  },
  {
   "cell_type": "code",
   "execution_count": 15,
   "metadata": {},
   "outputs": [],
   "source": [
    "# Language model creation with WT103\n",
    "learn = language_model_learner(data_lm, pretrained_model=URLs.WT103_1, drop_mult=0.5)"
   ]
  },
  {
   "cell_type": "code",
   "execution_count": 16,
   "metadata": {},
   "outputs": [
    {
     "data": {
      "text/html": [
       "Total time: 11:16 <p><table style='width:300px; margin-bottom:10px'>\n",
       "  <tr>\n",
       "    <th>epoch</th>\n",
       "    <th>train_loss</th>\n",
       "    <th>valid_loss</th>\n",
       "    <th>accuracy</th>\n",
       "  </tr>\n",
       "  <tr>\n",
       "    <th>1</th>\n",
       "    <th>4.264611</th>\n",
       "    <th>3.905638</th>\n",
       "    <th>0.316027</th>\n",
       "  </tr>\n",
       "</table>\n"
      ],
      "text/plain": [
       "<IPython.core.display.HTML object>"
      ]
     },
     "metadata": {},
     "output_type": "display_data"
    }
   ],
   "source": [
    "learn.fit_one_cycle(1, 1e-2)"
   ]
  },
  {
   "cell_type": "code",
   "execution_count": 17,
   "metadata": {},
   "outputs": [
    {
     "data": {
      "text/html": [
       "Total time: 12:58 <p><table style='width:300px; margin-bottom:10px'>\n",
       "  <tr>\n",
       "    <th>epoch</th>\n",
       "    <th>train_loss</th>\n",
       "    <th>valid_loss</th>\n",
       "    <th>accuracy</th>\n",
       "  </tr>\n",
       "  <tr>\n",
       "    <th>1</th>\n",
       "    <th>3.854819</th>\n",
       "    <th>3.753877</th>\n",
       "    <th>0.333092</th>\n",
       "  </tr>\n",
       "</table>\n"
      ],
      "text/plain": [
       "<IPython.core.display.HTML object>"
      ]
     },
     "metadata": {},
     "output_type": "display_data"
    }
   ],
   "source": [
    "# Unfreeze all layers and fit to MM-IMDB data (data_lm)\n",
    "learn.unfreeze()\n",
    "learn.fit_one_cycle(1, 1e-3)"
   ]
  },
  {
   "cell_type": "code",
   "execution_count": 18,
   "metadata": {},
   "outputs": [
    {
     "data": {
      "text/plain": [
       "\"This movie really did n't break in his pals visible here by telling the story of reaction from\""
      ]
     },
     "execution_count": 18,
     "metadata": {},
     "output_type": "execute_result"
    }
   ],
   "source": [
    "learn.predict(\"This movie really\", n_words=15)"
   ]
  },
  {
   "cell_type": "code",
   "execution_count": 19,
   "metadata": {},
   "outputs": [],
   "source": [
    "#Save the language model\n",
    "learn.save_encoder('lm_encoder')"
   ]
  },
  {
   "cell_type": "code",
   "execution_count": 20,
   "metadata": {},
   "outputs": [],
   "source": [
    "#Text Classifier\n",
    "#Split data into train and validate sets\n",
    "from sklearn.model_selection import train_test_split\n",
    "texts_df = pd.read_csv(make_data_path+'text_mod_labels.csv')\n",
    "train, valid = train_test_split(texts_df, test_size = 0.02, random_state = 0)"
   ]
  },
  {
   "cell_type": "code",
   "execution_count": 21,
   "metadata": {},
   "outputs": [],
   "source": [
    "# Create classifier model data\n",
    "data_multilabel = TextClasDataBunch.from_df(path, \n",
    "                                      train_df = train,\n",
    "                                      valid_df = valid,\n",
    "                                      text_cols = 'text', \n",
    "                                      label_cols ='tags',\n",
    "                                      label_delim=' ', \n",
    "                                      vocab=data_lm.train_ds.vocab, \n",
    "                                      bs=32)\n",
    "data_multilabel.save()\n",
    "data_multilabel = TextClasDataBunch.load(path, bs=32)"
   ]
  },
  {
   "cell_type": "code",
   "execution_count": 22,
   "metadata": {},
   "outputs": [
    {
     "name": "stdout",
     "output_type": "stream",
     "text": [
      "learn classifier defined. model summary:\n",
      "SequentialRNN(\n",
      "  (0): MultiBatchRNNCore(\n",
      "    (encoder): Embedding(37100, 400, padding_idx=1)\n",
      "    (encoder_dp): EmbeddingDropout(\n",
      "      (emb): Embedding(37100, 400, padding_idx=1)\n",
      "    )\n",
      "    (rnns): ModuleList(\n",
      "      (0): WeightDropout(\n",
      "        (module): LSTM(400, 1150, batch_first=True)\n",
      "      )\n",
      "      (1): WeightDropout(\n",
      "        (module): LSTM(1150, 1150, batch_first=True)\n",
      "      )\n",
      "      (2): WeightDropout(\n",
      "        (module): LSTM(1150, 400, batch_first=True)\n",
      "      )\n",
      "    )\n",
      "    (input_dp): RNNDropout()\n",
      "    (hidden_dps): ModuleList(\n",
      "      (0): RNNDropout()\n",
      "      (1): RNNDropout()\n",
      "      (2): RNNDropout()\n",
      "    )\n",
      "  )\n",
      "  (1): PoolingLinearClassifier(\n",
      "    (layers): Sequential(\n",
      "      (0): BatchNorm1d(1200, eps=1e-05, momentum=0.1, affine=True, track_running_stats=True)\n",
      "      (1): Dropout(p=0.2)\n",
      "      (2): Linear(in_features=1200, out_features=50, bias=True)\n",
      "      (3): ReLU(inplace)\n",
      "      (4): BatchNorm1d(50, eps=1e-05, momentum=0.1, affine=True, track_running_stats=True)\n",
      "      (5): Dropout(p=0.1)\n",
      "      (6): Linear(in_features=50, out_features=20, bias=True)\n",
      "    )\n",
      "  )\n",
      ")\n"
     ]
    }
   ],
   "source": [
    "learn = text_classifier_learner(data_multilabel, drop_mult=0.5, metrics = [accuracy_thresh, fbeta])\n",
    "print(\"learn classifier defined. model summary:\")\n",
    "print(learn.model)\n",
    "learn.load_encoder('{}/models/lm_encoder'.format(make_data_path))"
   ]
  },
  {
   "cell_type": "code",
   "execution_count": 23,
   "metadata": {},
   "outputs": [
    {
     "data": {
      "text/html": [
       "Total time: 10:54 <p><table style='width:375px; margin-bottom:10px'>\n",
       "  <tr>\n",
       "    <th>epoch</th>\n",
       "    <th>train_loss</th>\n",
       "    <th>valid_loss</th>\n",
       "    <th>accuracy_thresh</th>\n",
       "    <th>fbeta</th>\n",
       "  </tr>\n",
       "  <tr>\n",
       "    <th>1</th>\n",
       "    <th>0.247583</th>\n",
       "    <th>0.209090</th>\n",
       "    <th>0.910212</th>\n",
       "    <th>0.713383</th>\n",
       "  </tr>\n",
       "</table>\n"
      ],
      "text/plain": [
       "<IPython.core.display.HTML object>"
      ]
     },
     "metadata": {},
     "output_type": "display_data"
    }
   ],
   "source": [
    "learn.fit_one_cycle(1, 1e-2)"
   ]
  },
  {
   "cell_type": "code",
   "execution_count": 24,
   "metadata": {},
   "outputs": [
    {
     "data": {
      "text/html": [
       "Total time: 12:29 <p><table style='width:375px; margin-bottom:10px'>\n",
       "  <tr>\n",
       "    <th>epoch</th>\n",
       "    <th>train_loss</th>\n",
       "    <th>valid_loss</th>\n",
       "    <th>accuracy_thresh</th>\n",
       "    <th>fbeta</th>\n",
       "  </tr>\n",
       "  <tr>\n",
       "    <th>1</th>\n",
       "    <th>0.232806</th>\n",
       "    <th>0.196420</th>\n",
       "    <th>0.917823</th>\n",
       "    <th>0.740950</th>\n",
       "  </tr>\n",
       "</table>\n"
      ],
      "text/plain": [
       "<IPython.core.display.HTML object>"
      ]
     },
     "metadata": {},
     "output_type": "display_data"
    }
   ],
   "source": [
    "learn.freeze_to(-2)\n",
    "learn.fit_one_cycle(1, slice(5e-3/2., 5e-3))"
   ]
  },
  {
   "cell_type": "code",
   "execution_count": 25,
   "metadata": {},
   "outputs": [
    {
     "data": {
      "text/html": [
       "Total time: 24:28 <p><table style='width:375px; margin-bottom:10px'>\n",
       "  <tr>\n",
       "    <th>epoch</th>\n",
       "    <th>train_loss</th>\n",
       "    <th>valid_loss</th>\n",
       "    <th>accuracy_thresh</th>\n",
       "    <th>fbeta</th>\n",
       "  </tr>\n",
       "  <tr>\n",
       "    <th>1</th>\n",
       "    <th>0.212172</th>\n",
       "    <th>0.191583</th>\n",
       "    <th>0.919653</th>\n",
       "    <th>0.740876</th>\n",
       "  </tr>\n",
       "</table>\n"
      ],
      "text/plain": [
       "<IPython.core.display.HTML object>"
      ]
     },
     "metadata": {},
     "output_type": "display_data"
    }
   ],
   "source": [
    "learn.unfreeze()\n",
    "learn.fit_one_cycle(1, slice(2e-3/100, 2e-3))"
   ]
  },
  {
   "cell_type": "code",
   "execution_count": null,
   "metadata": {},
   "outputs": [],
   "source": []
  }
 ],
 "metadata": {
  "kernelspec": {
   "display_name": "Environment (conda_gmu_bimodal)",
   "language": "python",
   "name": "conda_gmu_bimodal"
  },
  "language_info": {
   "codemirror_mode": {
    "name": "ipython",
    "version": 3
   },
   "file_extension": ".py",
   "mimetype": "text/x-python",
   "name": "python",
   "nbconvert_exporter": "python",
   "pygments_lexer": "ipython3",
   "version": "3.6.8"
  }
 },
 "nbformat": 4,
 "nbformat_minor": 2
}
